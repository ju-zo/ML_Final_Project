{
 "cells": [
  {
   "cell_type": "markdown",
   "id": "90f7382e",
   "metadata": {},
   "source": [
    "### Final Project: Foundations of Machine Learning SoSe 2025\n",
    "#### \"Building a Multilayer Perceptron to classify trafic signs\"\n",
    "Dataset: The German Traffic Sign Recognition Benchmark\n",
    "\n",
    "Belana Floßbach, Melina Immke, Jeremy Uzoagba\n"
   ]
  },
  {
   "cell_type": "markdown",
   "id": "a73f4392",
   "metadata": {},
   "source": [
    "### Preprocessing:"
   ]
  },
  {
   "cell_type": "code",
   "execution_count": null,
   "id": "178bb18a",
   "metadata": {},
   "outputs": [],
   "source": [
    "#import and preprocess images\n",
    "#TODO: Code einmal sauber einfügen\n",
    "\n",
    "#mirrored version:\n",
    "\n",
    "#padded version:"
   ]
  },
  {
   "cell_type": "code",
   "execution_count": null,
   "id": "ceb0ae4c",
   "metadata": {},
   "outputs": [],
   "source": [
    "# Split into Test and Training Sets\n",
    "#TODO"
   ]
  },
  {
   "cell_type": "markdown",
   "id": "d9bbea5a",
   "metadata": {},
   "source": [
    "### Baseline Model (MPL)"
   ]
  },
  {
   "cell_type": "code",
   "execution_count": null,
   "id": "0a19d250",
   "metadata": {},
   "outputs": [],
   "source": [
    "#Baseline Neural Network (Multilayer Perceptron)\n",
    "#TODO Code sauber einfügen"
   ]
  },
  {
   "cell_type": "code",
   "execution_count": null,
   "id": "0a85b631",
   "metadata": {},
   "outputs": [],
   "source": [
    "# Hyperparameter search  \n",
    "#TODO\n"
   ]
  },
  {
   "cell_type": "code",
   "execution_count": null,
   "id": "39a938f0",
   "metadata": {},
   "outputs": [],
   "source": [
    "# evaluation of performance\n",
    "#TODO\n",
    "\n",
    "# -> Accuracy, Recall, F1 etc\n",
    "# -> confusion matrix?\n",
    "# -> loss kurven\n",
    "# -> ablation study?"
   ]
  },
  {
   "cell_type": "markdown",
   "id": "548afbfb",
   "metadata": {},
   "source": [
    "### Incremental improvement"
   ]
  },
  {
   "cell_type": "code",
   "execution_count": null,
   "id": "21d17bc8",
   "metadata": {},
   "outputs": [],
   "source": [
    "#Improved MLP\n",
    "#TODO !!! Mehr Layer(s)?\n"
   ]
  },
  {
   "cell_type": "code",
   "execution_count": null,
   "id": "89068a13",
   "metadata": {},
   "outputs": [],
   "source": [
    "# evaluation Improved MLP\n",
    "# TODO"
   ]
  },
  {
   "cell_type": "code",
   "execution_count": null,
   "id": "da2c89c3",
   "metadata": {},
   "outputs": [],
   "source": [
    "# Hyperparameter search  \n",
    "#TODO"
   ]
  },
  {
   "cell_type": "code",
   "execution_count": null,
   "id": "781f525b",
   "metadata": {},
   "outputs": [],
   "source": [
    "# evaluation of performance improved MLP\n",
    "# TODO"
   ]
  },
  {
   "cell_type": "markdown",
   "id": "e51618db",
   "metadata": {},
   "source": [
    "Comparison und conclusion:"
   ]
  },
  {
   "cell_type": "code",
   "execution_count": null,
   "metadata": {},
   "outputs": [],
   "source": [
    "# TODO\n",
    "# -> hier vllt die Kurven nebeneinander plotten?\n",
    "# kurz beschreiben, dass das improved mlp besser ist"
   ]
  },
  {
   "cell_type": "code",
   "execution_count": null,
   "id": "1e5c5b70",
   "metadata": {},
   "outputs": [],
   "source": []
  }
 ],
 "metadata": {
  "language_info": {
   "name": "python"
  }
 },
 "nbformat": 4,
 "nbformat_minor": 5
}
