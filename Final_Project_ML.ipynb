{
 "cells": [
  {
   "cell_type": "code",
   "execution_count": null,
   "id": "178bb18a",
   "metadata": {},
   "outputs": [],
   "source": [
    "#import and preprocess images"
   ]
  },
  {
   "cell_type": "code",
   "execution_count": null,
   "id": "0a19d250",
   "metadata": {},
   "outputs": [],
   "source": [
    "#build feed-forward network (based on log-regression neurons)"
   ]
  },
  {
   "cell_type": "code",
   "execution_count": null,
   "id": "0a85b631",
   "metadata": {},
   "outputs": [],
   "source": [
    "#create improved NN (CNN-Layers / new CNN network)"
   ]
  },
  {
   "cell_type": "code",
   "execution_count": null,
   "id": "89068a13",
   "metadata": {},
   "outputs": [],
   "source": [
    "# evaluation"
   ]
  }
 ],
 "metadata": {
  "language_info": {
   "name": "python"
  }
 },
 "nbformat": 4,
 "nbformat_minor": 5
}
